{
  "nbformat": 4,
  "nbformat_minor": 0,
  "metadata": {
    "colab": {
      "provenance": []
    },
    "kernelspec": {
      "name": "python3",
      "display_name": "Python 3"
    },
    "language_info": {
      "name": "python"
    }
  },
  "cells": [
    {
      "cell_type": "code",
      "execution_count": null,
      "metadata": {
        "id": "00m1VePuczyh",
        "colab": {
          "base_uri": "https://localhost:8080/"
        },
        "outputId": "bc63c2fc-e902-405c-aede-51084551645a"
      },
      "outputs": [
        {
          "output_type": "stream",
          "name": "stdout",
          "text": [
            "(1, 4, 9, 16, 25, 36)\n"
          ]
        }
      ],
      "source": [
        "S=(1,4,9,16,25,36)\n",
        "print(S)"
      ]
    },
    {
      "cell_type": "code",
      "source": [
        "S=(15)\n",
        "N1=0\n",
        "N2=1\n",
        "Next=N2\n",
        "Count=1\n",
        "\n",
        "while Count<=S:\n",
        "  print(N1)\n",
        "  Next=N1+N2\n",
        "  N1=N2\n",
        "  N2=Next\n",
        "  Count+=1\n",
        "print(\"End Sequence\")"
      ],
      "metadata": {
        "colab": {
          "base_uri": "https://localhost:8080/"
        },
        "id": "bJ9njkY4tBTz",
        "outputId": "cca84915-f922-4771-b409-73172a28d065"
      },
      "execution_count": null,
      "outputs": [
        {
          "output_type": "stream",
          "name": "stdout",
          "text": [
            "0\n",
            "1\n",
            "1\n",
            "2\n",
            "3\n",
            "5\n",
            "8\n",
            "13\n",
            "21\n",
            "34\n",
            "55\n",
            "89\n",
            "144\n",
            "233\n",
            "377\n",
            "End Sequence\n"
          ]
        }
      ]
    },
    {
      "cell_type": "code",
      "source": [
        "Word=(\"unanimously\")\n",
        "Count=0\n",
        "\n",
        "for V in Word:\n",
        "  if V=='a' or V=='e' or V=='i' or V=='o' or V=='u':\n",
        "    Count+=1\n",
        "    print(V)\n",
        "print(Count)"
      ],
      "metadata": {
        "colab": {
          "base_uri": "https://localhost:8080/"
        },
        "id": "w7fvP-SZzjqy",
        "outputId": "ec650d4f-cede-4b16-a574-9622dd82fc66"
      },
      "execution_count": null,
      "outputs": [
        {
          "output_type": "stream",
          "name": "stdout",
          "text": [
            "u\n",
            "a\n",
            "i\n",
            "o\n",
            "u\n",
            "5\n"
          ]
        }
      ]
    },
    {
      "cell_type": "code",
      "source": [
        "N=142687\n",
        "total=0\n",
        "\n",
        "for X in str(N):\n",
        "  total+=int(X)\n",
        "\n",
        "print(total)\n",
        "\n",
        "\n"
      ],
      "metadata": {
        "colab": {
          "base_uri": "https://localhost:8080/"
        },
        "id": "xK2ak8tG1zaA",
        "outputId": "4a739e64-5492-452b-8bd5-1e84f899bf7d"
      },
      "execution_count": null,
      "outputs": [
        {
          "output_type": "stream",
          "name": "stdout",
          "text": [
            "28\n"
          ]
        }
      ]
    },
    {
      "cell_type": "code",
      "source": [
        "from datetime import datetime\n",
        "\n",
        "CDT=datetime.now()\n",
        "\n",
        "print(CDT)\n",
        "\n",
        "\n"
      ],
      "metadata": {
        "colab": {
          "base_uri": "https://localhost:8080/"
        },
        "id": "vd-HGt1A-apO",
        "outputId": "451c994a-6ad2-4930-d551-ce83e2049686"
      },
      "execution_count": null,
      "outputs": [
        {
          "output_type": "stream",
          "name": "stdout",
          "text": [
            "2024-03-15 21:40:18.914893\n"
          ]
        }
      ]
    },
    {
      "cell_type": "code",
      "source": [
        "Principle=1000\n",
        "Rate=10\n",
        "Time=1\n",
        "\n",
        "CI=((Principle * pow((1 + Rate/100), Time)) - Principle)\n",
        "\n",
        "print(CI)"
      ],
      "metadata": {
        "colab": {
          "base_uri": "https://localhost:8080/"
        },
        "id": "I3XXZfFvD0P_",
        "outputId": "b1147b12-67f5-44eb-9a81-2ed49ce35b18"
      },
      "execution_count": null,
      "outputs": [
        {
          "output_type": "stream",
          "name": "stdout",
          "text": [
            "100.0\n"
          ]
        }
      ]
    },
    {
      "cell_type": "code",
      "source": [
        "Sentence=\"There are many ways to code with Python today\"\n",
        "count=0\n",
        "Space=\" \"\n",
        "for character in Sentence:\n",
        "  if character in Space:\n",
        "    count+=1\n",
        "print(count)"
      ],
      "metadata": {
        "colab": {
          "base_uri": "https://localhost:8080/"
        },
        "id": "bJaoDPCVKpbw",
        "outputId": "85821ff0-a46f-4959-b75c-212a61287629"
      },
      "execution_count": null,
      "outputs": [
        {
          "output_type": "stream",
          "name": "stdout",
          "text": [
            "8\n"
          ]
        }
      ]
    },
    {
      "cell_type": "code",
      "source": [
        "N=\"234985080790\"\n",
        "count=0\n",
        "\n",
        "for E in N:\n",
        "  if E == '2' or E == '4' or E == '6' or E == '8' or E == '0':\n",
        "    count+=1\n",
        "    print(E)\n",
        "\n",
        "print(E)\n",
        "\n",
        "\n",
        "\n",
        "\n",
        "\n",
        "\n",
        "\n",
        "\n"
      ],
      "metadata": {
        "colab": {
          "base_uri": "https://localhost:8080/"
        },
        "id": "heXDydNtLahV",
        "outputId": "4501898f-6c3b-4463-b936-43300f8fc510"
      },
      "execution_count": null,
      "outputs": [
        {
          "output_type": "stream",
          "name": "stdout",
          "text": [
            "2\n",
            "4\n",
            "8\n",
            "0\n",
            "8\n",
            "0\n",
            "0\n",
            "0\n"
          ]
        }
      ]
    },
    {
      "cell_type": "code",
      "source": [
        "Number=\"123456789\"\n",
        "\n",
        "Swapped=Number[-1:]+Number[1:-1]+Number[0]\n",
        "\n",
        "print(Swapped)\n"
      ],
      "metadata": {
        "colab": {
          "base_uri": "https://localhost:8080/"
        },
        "id": "miFCeZMw2fQH",
        "outputId": "0f28bd56-1412-4f3a-8448-cd7eb3c2cbc2"
      },
      "execution_count": 2,
      "outputs": [
        {
          "output_type": "stream",
          "name": "stdout",
          "text": [
            "923456781\n"
          ]
        }
      ]
    },
    {
      "cell_type": "code",
      "source": [
        "N=\"2645462\"\n",
        "Length=len(N)\n",
        "I=0\n",
        "F=Length-1\n",
        "\n",
        "while I<F:\n",
        "  if N[I]!=N[F]:\n",
        "    print(N,\"is not a Palindrome\")\n",
        "    break\n",
        "  I+=1\n",
        "  F-=1\n",
        "else:\n",
        "  print(N, \"is a Palindrome\")\n",
        "\n"
      ],
      "metadata": {
        "colab": {
          "base_uri": "https://localhost:8080/"
        },
        "id": "x4z6j_5VQQCE",
        "outputId": "438ef246-40f8-4341-fb36-0b3f94fc6388"
      },
      "execution_count": null,
      "outputs": [
        {
          "output_type": "stream",
          "name": "stdout",
          "text": [
            "2645462 is a Palindrome\n"
          ]
        }
      ]
    },
    {
      "cell_type": "code",
      "source": [
        "N=3\n",
        "\n",
        "for S in range(N):\n",
        "  for X in range(N-S-1):\n",
        "    print(\" \", end=\"   \")\n",
        "  for X in range(2*S+1):\n",
        "    print(\"   *\", end=\"\")\n",
        "  print()\n",
        "\n"
      ],
      "metadata": {
        "colab": {
          "base_uri": "https://localhost:8080/"
        },
        "id": "Y9IVA6intITs",
        "outputId": "00d8d22d-0d16-4712-b2b2-1aa189d3b057"
      },
      "execution_count": null,
      "outputs": [
        {
          "output_type": "stream",
          "name": "stdout",
          "text": [
            "           *\n",
            "       *   *   *\n",
            "   *   *   *   *   *\n"
          ]
        }
      ]
    },
    {
      "cell_type": "code",
      "source": [
        "Decimal=512\n",
        "\n",
        "con={0: \"0\", 1: \"1\", 2: \"2\", 3: \"3\", 4: \"4\", 5: \"5\", 6: \"6\", 7: \"7\", 8: \"8\", 9: \"9\", 10: \"A\", 11: \"B\", 12: \"C\", 13: \"D\", 14: \"E\", 15: \"F\"}\n",
        "\n",
        "def dectohex(Decimal):\n",
        "  hex=''\n",
        "  while Decimal>0:\n",
        "    rem=Decimal%16\n",
        "    hex=con[rem]+hex\n",
        "    Decimal=Decimal//16\n",
        "  return hex\n",
        "\n",
        "\n",
        "\n",
        "print(dectohex(Decimal))\n"
      ],
      "metadata": {
        "colab": {
          "base_uri": "https://localhost:8080/"
        },
        "id": "NfYyZuO-EHEl",
        "outputId": "b119dbe8-a74f-4424-89ee-57cea6a9e43e"
      },
      "execution_count": null,
      "outputs": [
        {
          "output_type": "stream",
          "name": "stdout",
          "text": [
            "200\n"
          ]
        }
      ]
    },
    {
      "cell_type": "code",
      "source": [
        "Animal=input(\"Enter an Animal: \")\n",
        "\n",
        "for X in range(len(Animal)):\n",
        "  OneString=Animal[-1:]+Animal[1:-1]+Animal[0]\n",
        "  TwoString=Animal[0]+Animal[-1:]+Animal[1:-1]\n",
        "  ThreeString=Animal[1:-1]+Animal[0]+Animal[-1:]\n",
        "print(OneString)\n",
        "print(TwoString)\n",
        "print(ThreeString)\n"
      ],
      "metadata": {
        "colab": {
          "base_uri": "https://localhost:8080/"
        },
        "id": "rzGopNtXLNJ7",
        "outputId": "fd37c905-f4b3-4d2d-ac41-29cc1182c00e"
      },
      "execution_count": 7,
      "outputs": [
        {
          "output_type": "stream",
          "name": "stdout",
          "text": [
            "Enter an Animal: Ostrich\n",
            "hstricO\n",
            "Ohstric\n",
            "stricOh\n"
          ]
        }
      ]
    },
    {
      "cell_type": "code",
      "source": [
        "Flavor=input(\"Enter an Ice Cream Flavor: \")\n",
        "\n",
        "print(\"Your ice cream flavor is {}!\".format(Flavor))\n"
      ],
      "metadata": {
        "colab": {
          "base_uri": "https://localhost:8080/"
        },
        "id": "GRqcehzxFMhu",
        "outputId": "ea5a6eed-496c-4c1a-898b-a74c7d43e8cb"
      },
      "execution_count": 9,
      "outputs": [
        {
          "output_type": "stream",
          "name": "stdout",
          "text": [
            "Enter an Ice Cream Flavor: Chocolate\n",
            "Your ice cream flavor is Chocolate!\n"
          ]
        }
      ]
    },
    {
      "cell_type": "code",
      "source": [
        "File=\"Dog\\nCat\\nBus\"\n",
        "Line=2\n",
        "X=0\n",
        "SecondLine=\"\"\n",
        "for V in File:\n",
        "  if X>Line:\n",
        "    break\n",
        "  else:\n",
        "    if X==Line-1 and V!=\"\\n\":\n",
        "      SecondLine+=V\n",
        "    elif V==\"\\n\":\n",
        "      X+=1\n",
        "print(SecondLine)"
      ],
      "metadata": {
        "colab": {
          "base_uri": "https://localhost:8080/"
        },
        "id": "Lja0DfDqJoBV",
        "outputId": "0e955e19-95e5-422e-e38b-2aad5b8256e6"
      },
      "execution_count": 10,
      "outputs": [
        {
          "output_type": "stream",
          "name": "stdout",
          "text": [
            "Cat\n"
          ]
        }
      ]
    },
    {
      "cell_type": "code",
      "source": [
        "for prime in range(1,100):\n",
        "  if prime>1:\n",
        "    for X in range(2,prime):\n",
        "      if prime%X==0:\n",
        "        break\n",
        "    else:\n",
        "      print(prime)"
      ],
      "metadata": {
        "colab": {
          "base_uri": "https://localhost:8080/"
        },
        "id": "yzLc5TJVMDa6",
        "outputId": "3f9eda26-5563-4a2d-aa3a-fc3db6ae4ecc"
      },
      "execution_count": 18,
      "outputs": [
        {
          "output_type": "stream",
          "name": "stdout",
          "text": [
            "2\n",
            "3\n",
            "5\n",
            "7\n",
            "11\n",
            "13\n",
            "17\n",
            "19\n",
            "23\n",
            "29\n",
            "31\n",
            "37\n",
            "41\n",
            "43\n",
            "47\n",
            "53\n",
            "59\n",
            "61\n",
            "67\n",
            "71\n",
            "73\n",
            "79\n",
            "83\n",
            "89\n",
            "97\n"
          ]
        }
      ]
    },
    {
      "cell_type": "code",
      "source": [
        "Alphabet=\"abcdefghijklmnopqrstuvwxyz\"\n",
        "\n",
        "def replacement(Alphabet):\n",
        "  Alternate=\"\"\n",
        "  for X in Alphabet:\n",
        "    if X in \"aeiou\":\n",
        "      Alternate+=\"1234\"\n",
        "    else:\n",
        "      Alternate+=X\n",
        "  return Alternate\n",
        "NewAlphabet=replacement(Alphabet)\n",
        "print(NewAlphabet)\n"
      ],
      "metadata": {
        "colab": {
          "base_uri": "https://localhost:8080/"
        },
        "id": "BxkBACoBOUUm",
        "outputId": "a5779e74-1e13-4217-dedf-dec715ec7e21"
      },
      "execution_count": 28,
      "outputs": [
        {
          "output_type": "stream",
          "name": "stdout",
          "text": [
            "1234bcd1234fgh1234jklmn1234pqrst1234vwxyz\n"
          ]
        }
      ]
    },
    {
      "cell_type": "code",
      "source": [
        "Sentence=\"What time is it? The time is 2:30AM.\"\n",
        "\n",
        "count1=0\n",
        "count2=0\n",
        "count3=0\n",
        "count4=0\n",
        "Lowercase=\"abcdefghijklmnopqrstuvwxyz\"\n",
        "Uppercase=\"ABCDEFGHIJKLMNOPQRSTUVWXYZ\"\n",
        "Special=\"?.:\"\n",
        "Numbers=\"0123456789\"\n",
        "\n",
        "for char in Sentence:\n",
        "  if char in Lowercase:\n",
        "    count1+=1\n",
        "print(\"Lowercase:\", count1)\n",
        "\n",
        "for char in Sentence:\n",
        "  if char in Uppercase:\n",
        "    count2+=1\n",
        "print(\"Uppercase:\", count2)\n",
        "\n",
        "for char in Sentence:\n",
        "  if char in Special:\n",
        "    count3+=1\n",
        "print(\"Special:\", count3)\n",
        "\n",
        "for char in Sentence:\n",
        "  if char in Numbers:\n",
        "    count4+=1\n",
        "print(\"Numbers:\", count4)\n",
        "\n",
        "\n"
      ],
      "metadata": {
        "colab": {
          "base_uri": "https://localhost:8080/"
        },
        "id": "0hQr7X18WF7J",
        "outputId": "961cda58-f2b0-413d-bb1f-a51122a4bf33"
      },
      "execution_count": 62,
      "outputs": [
        {
          "output_type": "stream",
          "name": "stdout",
          "text": [
            "Lowercase: 19\n",
            "Uppercase: 4\n",
            "Special: 3\n",
            "Numbers: 3\n"
          ]
        }
      ]
    },
    {
      "cell_type": "code",
      "source": [
        "String=\"ABC123456ABC987654ABC062096\"\n",
        "Substring=\"ABC\"\n",
        "count=0\n",
        "Sublen=len(Substring)\n",
        "\n",
        "for O in range(len(String)):\n",
        "  if String[O:O+Sublen]==Substring:\n",
        "    count+=1\n",
        "print(count)"
      ],
      "metadata": {
        "colab": {
          "base_uri": "https://localhost:8080/"
        },
        "id": "qK6uCqPMcqd5",
        "outputId": "2552d906-204c-4113-f26e-ce1338b444bb"
      },
      "execution_count": 80,
      "outputs": [
        {
          "output_type": "stream",
          "name": "stdout",
          "text": [
            "3\n"
          ]
        }
      ]
    },
    {
      "cell_type": "code",
      "source": [
        "List=\"AEIOU\"\n",
        "\n",
        "def Middle(List):\n",
        "  Letter=int(len(List)/2)\n",
        "  if len(List)%2==0:\n",
        "    return List[Letter-1:Letter+1]\n",
        "  else:\n",
        "    return List[Letter]\n",
        "\n",
        "print(Middle(List))\n",
        ""
      ],
      "metadata": {
        "colab": {
          "base_uri": "https://localhost:8080/"
        },
        "id": "-9AyReJDfylX",
        "outputId": "144c494f-d8b7-4780-cf76-6547c8e5d926"
      },
      "execution_count": 93,
      "outputs": [
        {
          "output_type": "stream",
          "name": "stdout",
          "text": [
            "I\n"
          ]
        }
      ]
    }
  ]
}